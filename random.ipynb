{
 "cells": [
  {
   "cell_type": "code",
   "execution_count": 5,
   "metadata": {},
   "outputs": [],
   "source": [
    "import random"
   ]
  },
  {
   "cell_type": "code",
   "execution_count": 6,
   "metadata": {},
   "outputs": [
    {
     "name": "stdout",
     "output_type": "stream",
     "text": [
      "0.438 0.633 0.122 0.679 0.135 \n",
      "85.348 38.999 57.715 87.382 51.984 \n"
     ]
    }
   ],
   "source": [
    "# random()生成随机浮点数0<= n < 1.0\n",
    "for i in range(5):\n",
    "    print('%04.3f' % random.random(),end=\" \")\n",
    "print()\n",
    "\n",
    "# 为了生成指定范围内的数字，使用 uniform() 方法\n",
    "for i in range(5):\n",
    "    print('%04.3f' % random.uniform(1, 100), end=\" \")\n",
    "print()"
   ]
  },
  {
   "cell_type": "code",
   "execution_count": 17,
   "metadata": {},
   "outputs": [
    {
     "name": "stdout",
     "output_type": "stream",
     "text": [
      "14.302 84.896 76.614 26.252 50.048 \n",
      "45.500 65.508 79.084 10.292 3.806 \n",
      "14.302 84.896 76.614 26.252 50.048 \n",
      "7 7 10 6 3 1 7 0 6 6 9 0 7 4 3 9 1 5 0 0 \n",
      "7 7 10 6 3 1 7 0 6 6 9 0 7 4 3 9 1 5 0 0 "
     ]
    }
   ],
   "source": [
    "# random 模块包含了 seed() 函数用于初始化伪随机数生成器以生成预期的一组值。\\无参数，就是以系统时间传入\n",
    "# 种子值用于控制根据公式生成的伪随机数序列的第一个值，并且由于公式是确定的，所以种子改变后它实际上设置了生成的完整序列\n",
    "random.seed(1)\n",
    "for i in range(5):\n",
    "    print('{:04.3f}'.format(random.uniform(1, 100)), end=\" \")\n",
    "print()\n",
    "for i in range(5):\n",
    "    print('{:04.3f}'.format(random.uniform(1, 100)), end=\" \")\n",
    "print()\n",
    "random.seed(1)\n",
    "for i in range(5):\n",
    "    print('{:04.3f}'.format(random.uniform(1, 100)), end=\" \")\n",
    "print()\n",
    "    \n",
    "# getstate()函数用来记录随机数生成器的状态，setstate(state)函数用来将生成器恢复到上次记录的状态。\n",
    "tuple1 = random.getstate() # 记录生成器的状态\n",
    "for i in range(20):\n",
    "    print(random.randint(0, 10), end=' ')\n",
    "print()\n",
    "random.setstate(tuple1) # 传入参数后恢复之前的状态\n",
    "for j in range(20):\n",
    "    print(random.randint(0, 10), end=' ') # 两组输出的结果一样\n"
   ]
  },
  {
   "cell_type": "code",
   "execution_count": 14,
   "metadata": {},
   "outputs": [
    {
     "name": "stdout",
     "output_type": "stream",
     "text": [
      "-5 5 3 \n",
      "0 72 39 \n"
     ]
    }
   ],
   "source": [
    "# randint() 生成随机整数\n",
    "\n",
    "for i in range(3):\n",
    "    print(random.randint(-5, 5), end=' ')\n",
    "print()\n",
    "\n",
    "# randrange() 是从范围中选择值的更一般形式\n",
    "for i in range(3):\n",
    "    print(random.randrange(0, 101, 3), end=' ')\n",
    "print()\n"
   ]
  },
  {
   "cell_type": "code",
   "execution_count": 20,
   "metadata": {},
   "outputs": [
    {
     "name": "stdout",
     "output_type": "stream",
     "text": [
      "25\n",
      "['hello', 5, 3, 1, 'nih']\n",
      "[3, 34, 25, 535, 8, 25]\n"
     ]
    }
   ],
   "source": [
    "# random 模块包含了 choice() 函数用于从序列中随机获取值\n",
    "lists = [1,3,5,6,8,34,535,634,25,25,256]\n",
    "print(random.choice(lists))\n",
    "\n",
    "# shuffle() 方法将序列的所有元素随机排序，只能为可变序列\n",
    "# print(random.shuffle(lists)) 错误----没有返回值\n",
    "list = ['nih',1,3,5,'hello']\n",
    "\n",
    "random.shuffle(list)\n",
    "print(list)\n",
    "\n",
    "# sample()  函数用于生成不重复样本值(随机地从指定列表中提取出N个不同的元素)，并且不改变输入序列\n",
    "new_list = random.sample(lists, 6)\n",
    "print(new_list)"
   ]
  },
  {
   "cell_type": "code",
   "execution_count": null,
   "metadata": {},
   "outputs": [],
   "source": [
    "\n"
   ]
  },
  {
   "cell_type": "code",
   "execution_count": null,
   "metadata": {},
   "outputs": [],
   "source": []
  }
 ],
 "metadata": {
  "kernelspec": {
   "display_name": "Python [conda env:python36]",
   "language": "python",
   "name": "conda-env-python36-py"
  },
  "language_info": {
   "codemirror_mode": {
    "name": "ipython",
    "version": 3
   },
   "file_extension": ".py",
   "mimetype": "text/x-python",
   "name": "python",
   "nbconvert_exporter": "python",
   "pygments_lexer": "ipython3",
   "version": "3.6.10"
  },
  "toc": {
   "base_numbering": 1,
   "nav_menu": {},
   "number_sections": true,
   "sideBar": true,
   "skip_h1_title": false,
   "title_cell": "Table of Contents",
   "title_sidebar": "Contents",
   "toc_cell": false,
   "toc_position": {},
   "toc_section_display": true,
   "toc_window_display": false
  },
  "varInspector": {
   "cols": {
    "lenName": 16,
    "lenType": 16,
    "lenVar": 40
   },
   "kernels_config": {
    "python": {
     "delete_cmd_postfix": "",
     "delete_cmd_prefix": "del ",
     "library": "var_list.py",
     "varRefreshCmd": "print(var_dic_list())"
    },
    "r": {
     "delete_cmd_postfix": ") ",
     "delete_cmd_prefix": "rm(",
     "library": "var_list.r",
     "varRefreshCmd": "cat(var_dic_list()) "
    }
   },
   "types_to_exclude": [
    "module",
    "function",
    "builtin_function_or_method",
    "instance",
    "_Feature"
   ],
   "window_display": false
  }
 },
 "nbformat": 4,
 "nbformat_minor": 4
}
